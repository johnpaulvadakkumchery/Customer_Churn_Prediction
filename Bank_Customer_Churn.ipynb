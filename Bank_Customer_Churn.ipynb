{
 "cells": [
  {
   "cell_type": "code",
   "execution_count": 1,
   "id": "ce1671d3-971d-4726-9091-4f081e87b19c",
   "metadata": {},
   "outputs": [],
   "source": [
    "import pandas as pd"
   ]
  },
  {
   "cell_type": "code",
   "execution_count": 2,
   "id": "e0ba633c-6b6a-4b2b-9e65-0688641d7d9f",
   "metadata": {},
   "outputs": [],
   "source": [
    "master = pd.read_csv(r\"Dataset/bank_customer_churn.csv\")"
   ]
  },
  {
   "cell_type": "code",
   "execution_count": 3,
   "id": "e5c7c9ff-1f9a-4712-a518-41876a3a4a0b",
   "metadata": {},
   "outputs": [
    {
     "name": "stdout",
     "output_type": "stream",
     "text": [
      "<class 'pandas.core.frame.DataFrame'>\n",
      "RangeIndex: 10000 entries, 0 to 9999\n",
      "Data columns (total 14 columns):\n",
      " #   Column           Non-Null Count  Dtype  \n",
      "---  ------           --------------  -----  \n",
      " 0   RowNumber        10000 non-null  int64  \n",
      " 1   CustomerId       10000 non-null  int64  \n",
      " 2   Surname          10000 non-null  object \n",
      " 3   CreditScore      10000 non-null  int64  \n",
      " 4   Geography        10000 non-null  object \n",
      " 5   Gender           10000 non-null  object \n",
      " 6   Age              10000 non-null  int64  \n",
      " 7   Tenure           10000 non-null  int64  \n",
      " 8   Balance          10000 non-null  float64\n",
      " 9   NumOfProducts    10000 non-null  int64  \n",
      " 10  HasCrCard        10000 non-null  int64  \n",
      " 11  IsActiveMember   10000 non-null  int64  \n",
      " 12  EstimatedSalary  10000 non-null  float64\n",
      " 13  Exited           10000 non-null  int64  \n",
      "dtypes: float64(2), int64(9), object(3)\n",
      "memory usage: 1.1+ MB\n"
     ]
    }
   ],
   "source": [
    "master.info()"
   ]
  },
  {
   "cell_type": "code",
   "execution_count": 4,
   "id": "af1b2a62-5a1c-414b-bada-702621fc560f",
   "metadata": {},
   "outputs": [],
   "source": [
    "df0 = master.copy()"
   ]
  },
  {
   "cell_type": "code",
   "execution_count": 5,
   "id": "13bd56a4-0ce1-4558-b89c-690322e6b830",
   "metadata": {},
   "outputs": [],
   "source": [
    "#Dropping irrelevant Features\n",
    "df1 = df0.drop(['RowNumber','CustomerId','Surname'],axis=1)"
   ]
  },
  {
   "cell_type": "code",
   "execution_count": 6,
   "id": "8efb337f-1bc6-47ef-b65b-9e001010850f",
   "metadata": {},
   "outputs": [
    {
     "name": "stdout",
     "output_type": "stream",
     "text": [
      "<class 'pandas.core.frame.DataFrame'>\n",
      "RangeIndex: 10000 entries, 0 to 9999\n",
      "Data columns (total 11 columns):\n",
      " #   Column           Non-Null Count  Dtype  \n",
      "---  ------           --------------  -----  \n",
      " 0   CreditScore      10000 non-null  int64  \n",
      " 1   Geography        10000 non-null  object \n",
      " 2   Gender           10000 non-null  object \n",
      " 3   Age              10000 non-null  int64  \n",
      " 4   Tenure           10000 non-null  int64  \n",
      " 5   Balance          10000 non-null  float64\n",
      " 6   NumOfProducts    10000 non-null  int64  \n",
      " 7   HasCrCard        10000 non-null  int64  \n",
      " 8   IsActiveMember   10000 non-null  int64  \n",
      " 9   EstimatedSalary  10000 non-null  float64\n",
      " 10  Exited           10000 non-null  int64  \n",
      "dtypes: float64(2), int64(7), object(2)\n",
      "memory usage: 859.5+ KB\n"
     ]
    }
   ],
   "source": [
    "df1.info()"
   ]
  },
  {
   "cell_type": "code",
   "execution_count": 7,
   "id": "e0089a1e-a98e-451f-8842-9ab9393d0652",
   "metadata": {},
   "outputs": [
    {
     "data": {
      "text/html": [
       "<div>\n",
       "<style scoped>\n",
       "    .dataframe tbody tr th:only-of-type {\n",
       "        vertical-align: middle;\n",
       "    }\n",
       "\n",
       "    .dataframe tbody tr th {\n",
       "        vertical-align: top;\n",
       "    }\n",
       "\n",
       "    .dataframe thead th {\n",
       "        text-align: right;\n",
       "    }\n",
       "</style>\n",
       "<table border=\"1\" class=\"dataframe\">\n",
       "  <thead>\n",
       "    <tr style=\"text-align: right;\">\n",
       "      <th></th>\n",
       "      <th>CreditScore</th>\n",
       "      <th>Geography</th>\n",
       "      <th>Gender</th>\n",
       "      <th>Age</th>\n",
       "      <th>Tenure</th>\n",
       "      <th>Balance</th>\n",
       "      <th>NumOfProducts</th>\n",
       "      <th>HasCrCard</th>\n",
       "      <th>IsActiveMember</th>\n",
       "      <th>EstimatedSalary</th>\n",
       "      <th>Exited</th>\n",
       "    </tr>\n",
       "  </thead>\n",
       "  <tbody>\n",
       "    <tr>\n",
       "      <th>0</th>\n",
       "      <td>619</td>\n",
       "      <td>France</td>\n",
       "      <td>Female</td>\n",
       "      <td>42</td>\n",
       "      <td>2</td>\n",
       "      <td>0.00</td>\n",
       "      <td>1</td>\n",
       "      <td>1</td>\n",
       "      <td>1</td>\n",
       "      <td>101348.88</td>\n",
       "      <td>1</td>\n",
       "    </tr>\n",
       "    <tr>\n",
       "      <th>1</th>\n",
       "      <td>608</td>\n",
       "      <td>Spain</td>\n",
       "      <td>Female</td>\n",
       "      <td>41</td>\n",
       "      <td>1</td>\n",
       "      <td>83807.86</td>\n",
       "      <td>1</td>\n",
       "      <td>0</td>\n",
       "      <td>1</td>\n",
       "      <td>112542.58</td>\n",
       "      <td>0</td>\n",
       "    </tr>\n",
       "    <tr>\n",
       "      <th>2</th>\n",
       "      <td>502</td>\n",
       "      <td>France</td>\n",
       "      <td>Female</td>\n",
       "      <td>42</td>\n",
       "      <td>8</td>\n",
       "      <td>159660.80</td>\n",
       "      <td>3</td>\n",
       "      <td>1</td>\n",
       "      <td>0</td>\n",
       "      <td>113931.57</td>\n",
       "      <td>1</td>\n",
       "    </tr>\n",
       "    <tr>\n",
       "      <th>3</th>\n",
       "      <td>699</td>\n",
       "      <td>France</td>\n",
       "      <td>Female</td>\n",
       "      <td>39</td>\n",
       "      <td>1</td>\n",
       "      <td>0.00</td>\n",
       "      <td>2</td>\n",
       "      <td>0</td>\n",
       "      <td>0</td>\n",
       "      <td>93826.63</td>\n",
       "      <td>0</td>\n",
       "    </tr>\n",
       "    <tr>\n",
       "      <th>4</th>\n",
       "      <td>850</td>\n",
       "      <td>Spain</td>\n",
       "      <td>Female</td>\n",
       "      <td>43</td>\n",
       "      <td>2</td>\n",
       "      <td>125510.82</td>\n",
       "      <td>1</td>\n",
       "      <td>1</td>\n",
       "      <td>1</td>\n",
       "      <td>79084.10</td>\n",
       "      <td>0</td>\n",
       "    </tr>\n",
       "  </tbody>\n",
       "</table>\n",
       "</div>"
      ],
      "text/plain": [
       "   CreditScore Geography  Gender  Age  Tenure    Balance  NumOfProducts  \\\n",
       "0          619    France  Female   42       2       0.00              1   \n",
       "1          608     Spain  Female   41       1   83807.86              1   \n",
       "2          502    France  Female   42       8  159660.80              3   \n",
       "3          699    France  Female   39       1       0.00              2   \n",
       "4          850     Spain  Female   43       2  125510.82              1   \n",
       "\n",
       "   HasCrCard  IsActiveMember  EstimatedSalary  Exited  \n",
       "0          1               1        101348.88       1  \n",
       "1          0               1        112542.58       0  \n",
       "2          1               0        113931.57       1  \n",
       "3          0               0         93826.63       0  \n",
       "4          1               1         79084.10       0  "
      ]
     },
     "execution_count": 7,
     "metadata": {},
     "output_type": "execute_result"
    }
   ],
   "source": [
    "df1.head(5)"
   ]
  },
  {
   "cell_type": "code",
   "execution_count": 8,
   "id": "fa711eec-829a-45f3-9032-961db863a10f",
   "metadata": {},
   "outputs": [
    {
     "data": {
      "text/plain": [
       "0    7963\n",
       "1    2037\n",
       "Name: Exited, dtype: int64"
      ]
     },
     "execution_count": 8,
     "metadata": {},
     "output_type": "execute_result"
    }
   ],
   "source": [
    "df1.Exited.value_counts()"
   ]
  },
  {
   "cell_type": "code",
   "execution_count": 9,
   "id": "2277b764-0199-46a4-ae72-1261f7d12b79",
   "metadata": {},
   "outputs": [
    {
     "data": {
      "text/plain": [
       "France     5014\n",
       "Germany    2509\n",
       "Spain      2477\n",
       "Name: Geography, dtype: int64"
      ]
     },
     "execution_count": 9,
     "metadata": {},
     "output_type": "execute_result"
    }
   ],
   "source": [
    "df1.Geography.value_counts()"
   ]
  },
  {
   "cell_type": "code",
   "execution_count": 10,
   "id": "2a035c0f-c341-4749-a55d-f876a4d1c02a",
   "metadata": {},
   "outputs": [
    {
     "data": {
      "text/plain": [
       "Male      5457\n",
       "Female    4543\n",
       "Name: Gender, dtype: int64"
      ]
     },
     "execution_count": 10,
     "metadata": {},
     "output_type": "execute_result"
    }
   ],
   "source": [
    "df1.Gender.value_counts()"
   ]
  },
  {
   "cell_type": "markdown",
   "id": "e4d5402c-1976-454e-a6d9-7fc4be5f0d23",
   "metadata": {
    "tags": []
   },
   "source": [
    "### Visualizations"
   ]
  },
  {
   "cell_type": "code",
   "execution_count": 11,
   "id": "d5fd545f-8428-4449-bed5-0c03b6305dff",
   "metadata": {},
   "outputs": [],
   "source": [
    "from matplotlib import pyplot as plt\n",
    "%matplotlib inline"
   ]
  },
  {
   "cell_type": "code",
   "execution_count": 12,
   "id": "769a63f7-7b57-4a9d-a996-2439ba227e3e",
   "metadata": {},
   "outputs": [
    {
     "data": {
      "text/plain": [
       "<matplotlib.legend.Legend at 0x2114121d250>"
      ]
     },
     "execution_count": 12,
     "metadata": {},
     "output_type": "execute_result"
    },
    {
     "data": {
      "image/png": "[encoded data removed]",
      "text/plain": [
       "<Figure size 432x288 with 1 Axes>"
      ]
     },
     "metadata": {
      "needs_background": "light"
     },
     "output_type": "display_data"
    }
   ],
   "source": [
    "geo_churn_no = df1[df1.Exited==0].Geography\n",
    "geo_churn_yes = df1[df1.Exited==1].Geography\n",
    "\n",
    "plt.xlabel(\"Geography\")\n",
    "plt.ylabel(\"Number Of Customers\")\n",
    "plt.title(\"Customer Churn Prediction Visualiztion\")\n",
    "\n",
    "plt.hist([geo_churn_yes, geo_churn_no], rwidth=0.95, color=['green','red'],label=['Churn=Yes','Churn=No'])\n",
    "plt.legend()\n"
   ]
  },
  {
   "cell_type": "code",
   "execution_count": 13,
   "id": "f6e40bbb-19b4-4c38-9fd1-261c34bfa110",
   "metadata": {},
   "outputs": [
    {
     "data": {
      "text/plain": [
       "<matplotlib.legend.Legend at 0x2114437b340>"
      ]
     },
     "execution_count": 13,
     "metadata": {},
     "output_type": "execute_result"
    },
    {
     "data": {
      "image/png": "[encoded data removed]",
      "text/plain": [
       "<Figure size 432x288 with 1 Axes>"
      ]
     },
     "metadata": {
      "needs_background": "light"
     },
     "output_type": "display_data"
    }
   ],
   "source": [
    "gender_churn_no = df1[df1.Exited==0].Gender\t\n",
    "gender_churn_yes = df1[df1.Exited==1].Gender\t\n",
    "\n",
    "plt.xlabel(\"Gender\")\n",
    "plt.ylabel(\"Number Of Customers\")\n",
    "plt.title(\"Customer Churn Prediction Visualiztion\")\n",
    "\n",
    "plt.hist([gender_churn_yes, gender_churn_no], rwidth=0.95, color=['green','red'],label=['Churn=Yes','Churn=No'])\n",
    "plt.legend()"
   ]
  },
  {
   "cell_type": "code",
   "execution_count": 14,
   "id": "ebe9267e-2ce8-45ab-a199-449bb4dc6e84",
   "metadata": {},
   "outputs": [
    {
     "data": {
      "text/plain": [
       "<matplotlib.legend.Legend at 0x211443cbbb0>"
      ]
     },
     "execution_count": 14,
     "metadata": {},
     "output_type": "execute_result"
    },
    {
     "data": {
      "image/png": "[encoded data removed]",
      "text/plain": [
       "<Figure size 432x288 with 1 Axes>"
      ]
     },
     "metadata": {
      "needs_background": "light"
     },
     "output_type": "display_data"
    }
   ],
   "source": [
    "creditsc_churn_no = df1[df1.Exited==0].CreditScore\t\n",
    "creditsc_churn_yes = df1[df1.Exited==1].CreditScore\t\n",
    "\n",
    "plt.xlabel(\"CreditScore\")\n",
    "plt.ylabel(\"Number Of Customers\")\n",
    "plt.title(\"Customer Churn Prediction Visualiztion\")\n",
    "\n",
    "plt.hist([creditsc_churn_yes, creditsc_churn_no], rwidth=0.95, color=['green','red'],label=['Churn=Yes','Churn=No'])\n",
    "plt.legend()"
   ]
  },
  {
   "cell_type": "code",
   "execution_count": 15,
   "id": "9e1f5591-ce81-4f4f-8904-05617e1238b7",
   "metadata": {},
   "outputs": [
    {
     "data": {
      "text/plain": [
       "<matplotlib.legend.Legend at 0x211444a3280>"
      ]
     },
     "execution_count": 15,
     "metadata": {},
     "output_type": "execute_result"
    },
    {
     "data": {
      "image/png": "[encoded data removed]",
      "text/plain": [
       "<Figure size 432x288 with 1 Axes>"
      ]
     },
     "metadata": {
      "needs_background": "light"
     },
     "output_type": "display_data"
    }
   ],
   "source": [
    "age_churn_no = df1[df1.Exited==0].Age\t\n",
    "age_churn_yes = df1[df1.Exited==1].Age\t\n",
    "\n",
    "plt.xlabel(\"Age\")\n",
    "plt.ylabel(\"Number Of Customers\")\n",
    "plt.title(\"Customer Churn Prediction Visualiztion\")\n",
    "\n",
    "plt.hist([age_churn_yes, age_churn_no], rwidth=0.95, color=['green','red'],label=['Churn=Yes','Churn=No'])\n",
    "plt.legend()"
   ]
  },
  {
   "cell_type": "code",
   "execution_count": 16,
   "id": "aef8c304-df8b-42bf-900a-fbcdb9f7839a",
   "metadata": {},
   "outputs": [
    {
     "data": {
      "text/plain": [
       "<matplotlib.legend.Legend at 0x21144514d60>"
      ]
     },
     "execution_count": 16,
     "metadata": {},
     "output_type": "execute_result"
    },
    {
     "data": {
      "image/png": "[encoded data removed]",
      "text/plain": [
       "<Figure size 432x288 with 1 Axes>"
      ]
     },
     "metadata": {
      "needs_background": "light"
     },
     "output_type": "display_data"
    }
   ],
   "source": [
    "bal_churn_no = df1[df1.Exited==0].Balance\t\n",
    "bal_churn_yes = df1[df1.Exited==1].Balance\t\n",
    "\n",
    "plt.xlabel(\"Balance\")\n",
    "plt.ylabel(\"Number Of Customers\")\n",
    "plt.title(\"Customer Churn Prediction Visualiztion\")\n",
    "\n",
    "plt.hist([bal_churn_yes, bal_churn_no], rwidth=0.95, color=['green','red'],label=['Churn=Yes','Churn=No'])\n",
    "plt.legend()"
   ]
  },
  {
   "cell_type": "code",
   "execution_count": 17,
   "id": "610a3df7-9ab8-43f5-ab7d-a6e122173b8c",
   "metadata": {},
   "outputs": [
    {
     "data": {
      "text/plain": [
       "<matplotlib.legend.Legend at 0x211445c1f10>"
      ]
     },
     "execution_count": 17,
     "metadata": {},
     "output_type": "execute_result"
    },
    {
     "data": {
      "image/png": "[encoded data removed]",
      "text/plain": [
       "<Figure size 432x288 with 1 Axes>"
      ]
     },
     "metadata": {
      "needs_background": "light"
     },
     "output_type": "display_data"
    }
   ],
   "source": [
    "card_churn_no = df1[df1.Exited==0].HasCrCard\t\n",
    "card_churn_yes = df1[df1.Exited==1].HasCrCard\t\n",
    "\n",
    "plt.xlabel(\"Has Credit Card\")\n",
    "plt.ylabel(\"Number Of Customers\")\n",
    "plt.title(\"Customer Churn Prediction Visualiztion\")\n",
    "\n",
    "plt.hist([card_churn_yes, card_churn_no], rwidth=0.95, color=['green','red'],label=['Churn=Yes','Churn=No'])\n",
    "plt.legend()"
   ]
  },
  {
   "cell_type": "code",
   "execution_count": 18,
   "id": "600af3b1-268b-45e8-a5f5-5a6e311a773e",
   "metadata": {},
   "outputs": [
    {
     "data": {
      "text/plain": [
       "<matplotlib.legend.Legend at 0x21144629fd0>"
      ]
     },
     "execution_count": 18,
     "metadata": {},
     "output_type": "execute_result"
    },
    {
     "data": {
      "image/png": "[encoded data removed]",
      "text/plain": [
       "<Figure size 432x288 with 1 Axes>"
      ]
     },
     "metadata": {
      "needs_background": "light"
     },
     "output_type": "display_data"
    }
   ],
   "source": [
    "sal_churn_no = df1[df1.Exited==0].EstimatedSalary\t\n",
    "sal_churn_yes = df1[df1.Exited==1].EstimatedSalary\t\n",
    "\n",
    "plt.xlabel(\"Estimated Salary\")\n",
    "plt.ylabel(\"Number Of Customers\")\n",
    "plt.title(\"Customer Churn Prediction Visualiztion\")\n",
    "\n",
    "plt.hist([sal_churn_yes, sal_churn_no], rwidth=0.95, color=['green','red'],label=['Churn=Yes','Churn=No'])\n",
    "plt.legend()"
   ]
  },
  {
   "cell_type": "markdown",
   "id": "e2e64e54-0ef5-4720-8196-835753f6a6ac",
   "metadata": {},
   "source": [
    "### Missing Values"
   ]
  },
  {
   "cell_type": "code",
   "execution_count": 19,
   "id": "04ef5cd6-1c6e-49d1-a1e5-f641a2045173",
   "metadata": {},
   "outputs": [
    {
     "data": {
      "text/plain": [
       "CreditScore        0\n",
       "Geography          0\n",
       "Gender             0\n",
       "Age                0\n",
       "Tenure             0\n",
       "Balance            0\n",
       "NumOfProducts      0\n",
       "HasCrCard          0\n",
       "IsActiveMember     0\n",
       "EstimatedSalary    0\n",
       "Exited             0\n",
       "dtype: int64"
      ]
     },
     "execution_count": 19,
     "metadata": {},
     "output_type": "execute_result"
    }
   ],
   "source": [
    "#Checking for missing values\n",
    "df1.isnull().sum()"
   ]
  },
  {
   "cell_type": "markdown",
   "id": "facf4822-c7ab-45c1-a48f-5c2296064e37",
   "metadata": {},
   "source": [
    "### Encoding"
   ]
  },
  {
   "cell_type": "code",
   "execution_count": 20,
   "id": "03118e4d-7421-4feb-bfa8-742548df397b",
   "metadata": {},
   "outputs": [],
   "source": [
    "#Encoding Gender\n",
    "df1['Gender'].replace(['Female', 'Male'],[0, 1],inplace = True)"
   ]
  },
  {
   "cell_type": "code",
   "execution_count": 21,
   "id": "afa7920d-b559-4889-9e6f-7a31b6b1234b",
   "metadata": {},
   "outputs": [],
   "source": [
    "#Encoding Geography\n",
    "from sklearn.preprocessing import OneHotEncoder\n",
    "encoder = OneHotEncoder(handle_unknown='ignore',drop = 'first')\n",
    "encoder_df = pd.DataFrame(encoder.fit_transform(df1[['Geography']]).toarray())\n",
    "df2 = df1.join(encoder_df)"
   ]
  },
  {
   "cell_type": "code",
   "execution_count": 22,
   "id": "7f11f39f-68dc-44d7-9bc1-27a34babee5e",
   "metadata": {},
   "outputs": [],
   "source": [
    "df2.drop('Geography', axis=1, inplace=True)"
   ]
  },
  {
   "cell_type": "code",
   "execution_count": 23,
   "id": "0945e306-892d-49f1-af91-09aaaa6ee78f",
   "metadata": {},
   "outputs": [],
   "source": [
    "df3 = df2.rename(columns = {0:\"Germany\",1:\"Spain\"})"
   ]
  },
  {
   "cell_type": "markdown",
   "id": "3dd66ea8-1b9c-4305-9279-b948a257a2a4",
   "metadata": {},
   "source": [
    "## Train Test Split"
   ]
  },
  {
   "cell_type": "code",
   "execution_count": 24,
   "id": "109b6518-8ae4-43ec-81a7-a5ccc72d1c49",
   "metadata": {},
   "outputs": [],
   "source": [
    "X = df3.drop('Exited',axis='columns')\n",
    "y = df3['Exited']\n",
    "\n",
    "from sklearn.model_selection import train_test_split\n",
    "X_train, X_test, y_train, y_test = train_test_split(X,y,test_size=0.2,random_state=5)"
   ]
  },
  {
   "cell_type": "markdown",
   "id": "07ac48c8-a765-4d68-9c76-76fa166858d3",
   "metadata": {
    "tags": []
   },
   "source": [
    "### Normalizing data"
   ]
  },
  {
   "cell_type": "code",
   "execution_count": 25,
   "id": "6b1efcbd-b143-4892-a370-11b2ade05bdf",
   "metadata": {},
   "outputs": [],
   "source": [
    "from sklearn.preprocessing import MinMaxScaler\n",
    "scaler = MinMaxScaler()\n",
    "\n",
    "scaler.fit(X_train)\n",
    "\n",
    "scaled = scaler.transform(X_train)\n",
    "\n",
    "X_train_scaled = pd.DataFrame(scaled, columns=X_train.columns)"
   ]
  },
  {
   "cell_type": "code",
   "execution_count": 26,
   "id": "e5ec716b-bf50-402e-b204-ebf452123939",
   "metadata": {},
   "outputs": [],
   "source": [
    "# save the scaler\n",
    "from pickle import dump\n",
    "\n",
    "dump(scaler, open('models/scaler.pkl', 'wb'))"
   ]
  },
  {
   "cell_type": "markdown",
   "id": "ed4d8551-8b74-4792-893b-ad7ec9974246",
   "metadata": {
    "tags": []
   },
   "source": [
    "## Feature Importance"
   ]
  },
  {
   "cell_type": "code",
   "execution_count": 27,
   "id": "8db69f0d-f7ea-4ce2-a059-3a471a127ef4",
   "metadata": {},
   "outputs": [
    {
     "name": "stdout",
     "output_type": "stream",
     "text": [
      "Age                0.238943\n",
      "EstimatedSalary    0.144362\n",
      "Balance            0.141987\n",
      "CreditScore        0.141710\n",
      "NumOfProducts      0.132439\n",
      "Tenure             0.080540\n",
      "IsActiveMember     0.040649\n",
      "Germany            0.027316\n",
      "HasCrCard          0.019173\n",
      "Gender             0.019058\n",
      "Spain              0.013823\n",
      "dtype: float64\n"
     ]
    }
   ],
   "source": [
    "# random forest for feature importance on a classification problem\n",
    "from sklearn.ensemble import RandomForestClassifier\n",
    "import matplotlib.pyplot as plt \n",
    "\n",
    "# define the model\n",
    "RFmodel = RandomForestClassifier()\n",
    "# fit the model\n",
    "RFmodel.fit(X_train_scaled, y_train)\n",
    "\n",
    "# view the feature scores\n",
    "feature_scores = pd.Series(RFmodel.feature_importances_, index=X_train_scaled.columns).sort_values(ascending=False)\n",
    "print(feature_scores)\n"
   ]
  },
  {
   "cell_type": "code",
   "execution_count": 28,
   "id": "870b2abc-88b0-43a2-8b88-b837939a7ef2",
   "metadata": {},
   "outputs": [
    {
     "data": {
      "text/plain": [
       "<AxesSubplot:>"
      ]
     },
     "execution_count": 28,
     "metadata": {},
     "output_type": "execute_result"
    },
    {
     "data": {
      "image/png": "[encoded data removed]",
      "text/plain": [
       "<Figure size 432x288 with 1 Axes>"
      ]
     },
     "metadata": {
      "needs_background": "light"
     },
     "output_type": "display_data"
    }
   ],
   "source": [
    "feature_scores.plot.bar()"
   ]
  },
  {
   "cell_type": "markdown",
   "id": "b27d2a1a-608f-44cb-a456-b73d33029f7f",
   "metadata": {},
   "source": [
    "## Model Building"
   ]
  },
  {
   "cell_type": "code",
   "execution_count": 29,
   "id": "77f23e7b-5416-4933-913f-6f321054ba73",
   "metadata": {
    "collapsed": true,
    "jupyter": {
     "outputs_hidden": true
    },
    "tags": []
   },
   "outputs": [
    {
     "name": "stdout",
     "output_type": "stream",
     "text": [
      "Epoch 1/200\n",
      "250/250 [==============================] - 2s 3ms/step - loss: 0.4467 - accuracy: 0.8123\n",
      "Epoch 2/200\n",
      "250/250 [==============================] - 1s 3ms/step - loss: 0.3858 - accuracy: 0.8350\n",
      "Epoch 3/200\n",
      "250/250 [==============================] - 1s 3ms/step - loss: 0.3693 - accuracy: 0.8460\n",
      "Epoch 4/200\n",
      "250/250 [==============================] - 1s 3ms/step - loss: 0.3600 - accuracy: 0.8526\n",
      "Epoch 5/200\n",
      "250/250 [==============================] - 1s 3ms/step - loss: 0.3547 - accuracy: 0.8536\n",
      "Epoch 6/200\n",
      "250/250 [==============================] - 1s 3ms/step - loss: 0.3527 - accuracy: 0.8540\n",
      "Epoch 7/200\n",
      "250/250 [==============================] - 1s 3ms/step - loss: 0.3539 - accuracy: 0.8575\n",
      "Epoch 8/200\n",
      "250/250 [==============================] - 1s 3ms/step - loss: 0.3498 - accuracy: 0.8568\n",
      "Epoch 9/200\n",
      "250/250 [==============================] - 1s 3ms/step - loss: 0.3482 - accuracy: 0.8572\n",
      "Epoch 10/200\n",
      "250/250 [==============================] - 1s 3ms/step - loss: 0.3498 - accuracy: 0.8545\n",
      "Epoch 11/200\n",
      "250/250 [==============================] - 1s 3ms/step - loss: 0.3466 - accuracy: 0.8568\n",
      "Epoch 12/200\n",
      "250/250 [==============================] - 1s 3ms/step - loss: 0.3454 - accuracy: 0.8559\n",
      "Epoch 13/200\n",
      "250/250 [==============================] - 1s 3ms/step - loss: 0.3430 - accuracy: 0.8586\n",
      "Epoch 14/200\n",
      "250/250 [==============================] - 1s 4ms/step - loss: 0.3429 - accuracy: 0.8608\n",
      "Epoch 15/200\n",
      "250/250 [==============================] - 1s 4ms/step - loss: 0.3428 - accuracy: 0.8612\n",
      "Epoch 16/200\n",
      "250/250 [==============================] - 1s 4ms/step - loss: 0.3404 - accuracy: 0.8616\n",
      "Epoch 17/200\n",
      "250/250 [==============================] - 1s 4ms/step - loss: 0.3404 - accuracy: 0.8624\n",
      "Epoch 18/200\n",
      "250/250 [==============================] - 1s 4ms/step - loss: 0.3396 - accuracy: 0.8621\n",
      "Epoch 19/200\n",
      "250/250 [==============================] - 1s 4ms/step - loss: 0.3415 - accuracy: 0.8608\n",
      "Epoch 20/200\n",
      "250/250 [==============================] - 1s 4ms/step - loss: 0.3379 - accuracy: 0.8611\n",
      "Epoch 21/200\n",
      "250/250 [==============================] - 1s 4ms/step - loss: 0.3364 - accuracy: 0.8636\n",
      "Epoch 22/200\n",
      "250/250 [==============================] - 1s 4ms/step - loss: 0.3374 - accuracy: 0.8606\n",
      "Epoch 23/200\n",
      "250/250 [==============================] - 1s 4ms/step - loss: 0.3320 - accuracy: 0.8637\n",
      "Epoch 24/200\n",
      "250/250 [==============================] - 1s 4ms/step - loss: 0.3369 - accuracy: 0.8604\n",
      "Epoch 25/200\n",
      "250/250 [==============================] - 1s 4ms/step - loss: 0.3339 - accuracy: 0.8619\n",
      "Epoch 26/200\n",
      "250/250 [==============================] - 1s 4ms/step - loss: 0.3362 - accuracy: 0.8644\n",
      "Epoch 27/200\n",
      "250/250 [==============================] - 1s 4ms/step - loss: 0.3326 - accuracy: 0.8645\n",
      "Epoch 28/200\n",
      "250/250 [==============================] - 1s 4ms/step - loss: 0.3338 - accuracy: 0.8652\n",
      "Epoch 29/200\n",
      "250/250 [==============================] - 1s 4ms/step - loss: 0.3334 - accuracy: 0.8640\n",
      "Epoch 30/200\n",
      "250/250 [==============================] - 1s 4ms/step - loss: 0.3315 - accuracy: 0.8648\n",
      "Epoch 31/200\n",
      "250/250 [==============================] - 1s 4ms/step - loss: 0.3323 - accuracy: 0.8658\n",
      "Epoch 32/200\n",
      "250/250 [==============================] - 1s 4ms/step - loss: 0.3309 - accuracy: 0.8660\n",
      "Epoch 33/200\n",
      "250/250 [==============================] - 1s 4ms/step - loss: 0.3312 - accuracy: 0.8661\n",
      "Epoch 34/200\n",
      "250/250 [==============================] - 1s 5ms/step - loss: 0.3321 - accuracy: 0.8656\n",
      "Epoch 35/200\n",
      "250/250 [==============================] - 1s 5ms/step - loss: 0.3321 - accuracy: 0.8649\n",
      "Epoch 36/200\n",
      "250/250 [==============================] - 1s 5ms/step - loss: 0.3321 - accuracy: 0.8645\n",
      "Epoch 37/200\n",
      "250/250 [==============================] - 1s 5ms/step - loss: 0.3300 - accuracy: 0.8629\n",
      "Epoch 38/200\n",
      "250/250 [==============================] - 1s 4ms/step - loss: 0.3294 - accuracy: 0.8649\n",
      "Epoch 39/200\n",
      "250/250 [==============================] - 1s 4ms/step - loss: 0.3282 - accuracy: 0.8658\n",
      "Epoch 40/200\n",
      "250/250 [==============================] - 1s 5ms/step - loss: 0.3293 - accuracy: 0.8641\n",
      "Epoch 41/200\n",
      "250/250 [==============================] - 1s 5ms/step - loss: 0.3300 - accuracy: 0.8650\n",
      "Epoch 42/200\n",
      "250/250 [==============================] - 1s 4ms/step - loss: 0.3289 - accuracy: 0.8645\n",
      "Epoch 43/200\n",
      "250/250 [==============================] - 1s 5ms/step - loss: 0.3279 - accuracy: 0.8673\n",
      "Epoch 44/200\n",
      "250/250 [==============================] - 1s 5ms/step - loss: 0.3281 - accuracy: 0.8634\n",
      "Epoch 45/200\n",
      "250/250 [==============================] - 1s 5ms/step - loss: 0.3267 - accuracy: 0.8673\n",
      "Epoch 46/200\n",
      "250/250 [==============================] - 1s 5ms/step - loss: 0.3254 - accuracy: 0.8666\n",
      "Epoch 47/200\n",
      "250/250 [==============================] - 1s 5ms/step - loss: 0.3266 - accuracy: 0.8652\n",
      "Epoch 48/200\n",
      "250/250 [==============================] - 1s 5ms/step - loss: 0.3240 - accuracy: 0.8670\n",
      "Epoch 49/200\n",
      "250/250 [==============================] - 1s 5ms/step - loss: 0.3272 - accuracy: 0.8644\n",
      "Epoch 50/200\n",
      "250/250 [==============================] - 1s 5ms/step - loss: 0.3277 - accuracy: 0.8668\n",
      "Epoch 51/200\n",
      "250/250 [==============================] - 1s 5ms/step - loss: 0.3285 - accuracy: 0.8665: 0s - loss: 0.3342 - ac\n",
      "Epoch 52/200\n",
      "250/250 [==============================] - 1s 5ms/step - loss: 0.3255 - accuracy: 0.8674\n",
      "Epoch 53/200\n",
      "250/250 [==============================] - 1s 5ms/step - loss: 0.3258 - accuracy: 0.8660\n",
      "Epoch 54/200\n",
      "250/250 [==============================] - 1s 5ms/step - loss: 0.3253 - accuracy: 0.8650\n",
      "Epoch 55/200\n",
      "250/250 [==============================] - 1s 5ms/step - loss: 0.3264 - accuracy: 0.8662\n",
      "Epoch 56/200\n",
      "250/250 [==============================] - 1s 5ms/step - loss: 0.3273 - accuracy: 0.8671\n",
      "Epoch 57/200\n",
      "250/250 [==============================] - 1s 5ms/step - loss: 0.3274 - accuracy: 0.8666\n",
      "Epoch 58/200\n",
      "250/250 [==============================] - 1s 5ms/step - loss: 0.3260 - accuracy: 0.8654\n",
      "Epoch 59/200\n",
      "250/250 [==============================] - 1s 5ms/step - loss: 0.3267 - accuracy: 0.8660\n",
      "Epoch 60/200\n",
      "250/250 [==============================] - 1s 4ms/step - loss: 0.3265 - accuracy: 0.8656\n",
      "Epoch 61/200\n",
      "250/250 [==============================] - 1s 5ms/step - loss: 0.3242 - accuracy: 0.8686\n",
      "Epoch 62/200\n",
      "250/250 [==============================] - 1s 5ms/step - loss: 0.3283 - accuracy: 0.8634\n",
      "Epoch 63/200\n",
      "250/250 [==============================] - 1s 5ms/step - loss: 0.3276 - accuracy: 0.8655\n",
      "Epoch 64/200\n",
      "250/250 [==============================] - 1s 5ms/step - loss: 0.3266 - accuracy: 0.8631\n",
      "Epoch 65/200\n",
      "250/250 [==============================] - 1s 5ms/step - loss: 0.3236 - accuracy: 0.8664\n",
      "Epoch 66/200\n",
      "250/250 [==============================] - 1s 5ms/step - loss: 0.3239 - accuracy: 0.8664\n",
      "Epoch 67/200\n",
      "250/250 [==============================] - 1s 5ms/step - loss: 0.3239 - accuracy: 0.8664\n",
      "Epoch 68/200\n",
      "250/250 [==============================] - 1s 4ms/step - loss: 0.3250 - accuracy: 0.8649\n",
      "Epoch 69/200\n",
      "250/250 [==============================] - 1s 4ms/step - loss: 0.3235 - accuracy: 0.8654\n",
      "Epoch 70/200\n",
      "250/250 [==============================] - 1s 4ms/step - loss: 0.3240 - accuracy: 0.8649\n",
      "Epoch 71/200\n",
      "250/250 [==============================] - 1s 4ms/step - loss: 0.3239 - accuracy: 0.8662\n",
      "Epoch 72/200\n",
      "250/250 [==============================] - 1s 4ms/step - loss: 0.3239 - accuracy: 0.8665\n",
      "Epoch 73/200\n",
      "250/250 [==============================] - 1s 4ms/step - loss: 0.3236 - accuracy: 0.8661\n",
      "Epoch 74/200\n",
      "250/250 [==============================] - 1s 4ms/step - loss: 0.3230 - accuracy: 0.8660\n",
      "Epoch 75/200\n",
      "250/250 [==============================] - 1s 4ms/step - loss: 0.3204 - accuracy: 0.8671\n",
      "Epoch 76/200\n",
      "250/250 [==============================] - 1s 4ms/step - loss: 0.3243 - accuracy: 0.8669\n",
      "Epoch 77/200\n",
      "250/250 [==============================] - 1s 4ms/step - loss: 0.3220 - accuracy: 0.8660\n",
      "Epoch 78/200\n",
      "250/250 [==============================] - 1s 4ms/step - loss: 0.3234 - accuracy: 0.8671\n",
      "Epoch 79/200\n",
      "250/250 [==============================] - 1s 5ms/step - loss: 0.3204 - accuracy: 0.8661\n",
      "Epoch 80/200\n",
      "250/250 [==============================] - 1s 5ms/step - loss: 0.3222 - accuracy: 0.8681\n",
      "Epoch 81/200\n",
      "250/250 [==============================] - 1s 5ms/step - loss: 0.3216 - accuracy: 0.8661\n",
      "Epoch 82/200\n",
      "250/250 [==============================] - 1s 4ms/step - loss: 0.3205 - accuracy: 0.8664\n",
      "Epoch 83/200\n",
      "250/250 [==============================] - 1s 4ms/step - loss: 0.3215 - accuracy: 0.8692\n",
      "Epoch 84/200\n",
      "250/250 [==============================] - 1s 4ms/step - loss: 0.3221 - accuracy: 0.8680\n",
      "Epoch 85/200\n",
      "250/250 [==============================] - 1s 4ms/step - loss: 0.3202 - accuracy: 0.8671\n",
      "Epoch 86/200\n",
      "250/250 [==============================] - 1s 4ms/step - loss: 0.3235 - accuracy: 0.8671\n",
      "Epoch 87/200\n",
      "250/250 [==============================] - 1s 4ms/step - loss: 0.3195 - accuracy: 0.8686\n",
      "Epoch 88/200\n",
      "250/250 [==============================] - 1s 4ms/step - loss: 0.3202 - accuracy: 0.8684\n",
      "Epoch 89/200\n",
      "250/250 [==============================] - 1s 4ms/step - loss: 0.3217 - accuracy: 0.8670\n",
      "Epoch 90/200\n",
      "250/250 [==============================] - 1s 4ms/step - loss: 0.3221 - accuracy: 0.8675\n",
      "Epoch 91/200\n",
      "250/250 [==============================] - 1s 4ms/step - loss: 0.3228 - accuracy: 0.8662\n",
      "Epoch 92/200\n",
      "250/250 [==============================] - 1s 4ms/step - loss: 0.3218 - accuracy: 0.8692\n",
      "Epoch 93/200\n",
      "250/250 [==============================] - 1s 4ms/step - loss: 0.3218 - accuracy: 0.8708\n",
      "Epoch 94/200\n",
      "250/250 [==============================] - 1s 4ms/step - loss: 0.3202 - accuracy: 0.8675\n",
      "Epoch 95/200\n",
      "250/250 [==============================] - 1s 4ms/step - loss: 0.3211 - accuracy: 0.8686\n",
      "Epoch 96/200\n",
      "250/250 [==============================] - 1s 5ms/step - loss: 0.3202 - accuracy: 0.8676\n",
      "Epoch 97/200\n",
      "250/250 [==============================] - 1s 4ms/step - loss: 0.3187 - accuracy: 0.8695\n",
      "Epoch 98/200\n",
      "250/250 [==============================] - 1s 4ms/step - loss: 0.3213 - accuracy: 0.8686\n",
      "Epoch 99/200\n",
      "250/250 [==============================] - 1s 4ms/step - loss: 0.3196 - accuracy: 0.8700\n",
      "Epoch 100/200\n",
      "250/250 [==============================] - 1s 4ms/step - loss: 0.3202 - accuracy: 0.8679\n",
      "Epoch 101/200\n",
      "250/250 [==============================] - 1s 4ms/step - loss: 0.3193 - accuracy: 0.8690\n",
      "Epoch 102/200\n",
      "250/250 [==============================] - 1s 4ms/step - loss: 0.3180 - accuracy: 0.8680\n",
      "Epoch 103/200\n",
      "250/250 [==============================] - 1s 4ms/step - loss: 0.3216 - accuracy: 0.8699\n",
      "Epoch 104/200\n",
      "250/250 [==============================] - 1s 4ms/step - loss: 0.3216 - accuracy: 0.8687\n",
      "Epoch 105/200\n",
      "250/250 [==============================] - 1s 4ms/step - loss: 0.3197 - accuracy: 0.8699\n",
      "Epoch 106/200\n",
      "250/250 [==============================] - 1s 4ms/step - loss: 0.3200 - accuracy: 0.8677\n",
      "Epoch 107/200\n",
      "250/250 [==============================] - 1s 4ms/step - loss: 0.3200 - accuracy: 0.8679\n",
      "Epoch 108/200\n",
      "250/250 [==============================] - 1s 4ms/step - loss: 0.3190 - accuracy: 0.8695\n",
      "Epoch 109/200\n",
      "250/250 [==============================] - 1s 4ms/step - loss: 0.3184 - accuracy: 0.8680\n",
      "Epoch 110/200\n",
      "250/250 [==============================] - 1s 4ms/step - loss: 0.3200 - accuracy: 0.8701\n",
      "Epoch 111/200\n",
      "250/250 [==============================] - 1s 4ms/step - loss: 0.3200 - accuracy: 0.8665\n",
      "Epoch 112/200\n",
      "250/250 [==============================] - 1s 4ms/step - loss: 0.3185 - accuracy: 0.8690\n",
      "Epoch 113/200\n",
      "250/250 [==============================] - 1s 5ms/step - loss: 0.3187 - accuracy: 0.8679\n",
      "Epoch 114/200\n",
      "250/250 [==============================] - 1s 4ms/step - loss: 0.3186 - accuracy: 0.8670\n",
      "Epoch 115/200\n",
      "250/250 [==============================] - 1s 5ms/step - loss: 0.3161 - accuracy: 0.8692\n",
      "Epoch 116/200\n",
      "250/250 [==============================] - 1s 5ms/step - loss: 0.3184 - accuracy: 0.8694\n",
      "Epoch 117/200\n",
      "250/250 [==============================] - 1s 5ms/step - loss: 0.3199 - accuracy: 0.8686\n",
      "Epoch 118/200\n",
      "250/250 [==============================] - 1s 5ms/step - loss: 0.3196 - accuracy: 0.8696\n",
      "Epoch 119/200\n",
      "250/250 [==============================] - 1s 5ms/step - loss: 0.3176 - accuracy: 0.8700\n",
      "Epoch 120/200\n",
      "250/250 [==============================] - 1s 5ms/step - loss: 0.3196 - accuracy: 0.8680: 0s - l\n",
      "Epoch 121/200\n",
      "250/250 [==============================] - 1s 5ms/step - loss: 0.3165 - accuracy: 0.8710\n",
      "Epoch 122/200\n",
      "250/250 [==============================] - 1s 5ms/step - loss: 0.3165 - accuracy: 0.8696\n",
      "Epoch 123/200\n",
      "250/250 [==============================] - 1s 4ms/step - loss: 0.3193 - accuracy: 0.8655\n",
      "Epoch 124/200\n",
      "250/250 [==============================] - 1s 4ms/step - loss: 0.3199 - accuracy: 0.8671\n",
      "Epoch 125/200\n",
      "250/250 [==============================] - 1s 4ms/step - loss: 0.3194 - accuracy: 0.8671\n",
      "Epoch 126/200\n",
      "250/250 [==============================] - 1s 4ms/step - loss: 0.3184 - accuracy: 0.8677\n",
      "Epoch 127/200\n",
      "250/250 [==============================] - 1s 4ms/step - loss: 0.3213 - accuracy: 0.8659\n",
      "Epoch 128/200\n",
      "250/250 [==============================] - 1s 5ms/step - loss: 0.3168 - accuracy: 0.8687\n",
      "Epoch 129/200\n",
      "250/250 [==============================] - 1s 4ms/step - loss: 0.3167 - accuracy: 0.8709\n",
      "Epoch 130/200\n",
      "250/250 [==============================] - 1s 4ms/step - loss: 0.3164 - accuracy: 0.8700\n",
      "Epoch 131/200\n",
      "250/250 [==============================] - 1s 5ms/step - loss: 0.3184 - accuracy: 0.8696\n",
      "Epoch 132/200\n",
      "250/250 [==============================] - 1s 4ms/step - loss: 0.3170 - accuracy: 0.8694\n",
      "Epoch 133/200\n",
      "250/250 [==============================] - 1s 4ms/step - loss: 0.3179 - accuracy: 0.8695\n",
      "Epoch 134/200\n",
      "250/250 [==============================] - 1s 4ms/step - loss: 0.3179 - accuracy: 0.8683\n",
      "Epoch 135/200\n",
      "250/250 [==============================] - 1s 5ms/step - loss: 0.3173 - accuracy: 0.8695\n",
      "Epoch 136/200\n",
      "250/250 [==============================] - 1s 4ms/step - loss: 0.3172 - accuracy: 0.8706\n",
      "Epoch 137/200\n",
      "250/250 [==============================] - 1s 4ms/step - loss: 0.3192 - accuracy: 0.8683\n",
      "Epoch 138/200\n",
      "250/250 [==============================] - 1s 4ms/step - loss: 0.3231 - accuracy: 0.8681\n",
      "Epoch 139/200\n",
      "250/250 [==============================] - 1s 4ms/step - loss: 0.3171 - accuracy: 0.8696\n",
      "Epoch 140/200\n",
      "250/250 [==============================] - 1s 4ms/step - loss: 0.3157 - accuracy: 0.8690\n",
      "Epoch 141/200\n",
      "250/250 [==============================] - 1s 4ms/step - loss: 0.3179 - accuracy: 0.8687\n",
      "Epoch 142/200\n",
      "250/250 [==============================] - 1s 5ms/step - loss: 0.3188 - accuracy: 0.8709\n",
      "Epoch 143/200\n",
      "250/250 [==============================] - 1s 4ms/step - loss: 0.3170 - accuracy: 0.8686\n",
      "Epoch 144/200\n",
      "250/250 [==============================] - 1s 4ms/step - loss: 0.3142 - accuracy: 0.8725\n",
      "Epoch 145/200\n",
      "250/250 [==============================] - 1s 4ms/step - loss: 0.3169 - accuracy: 0.8692\n",
      "Epoch 146/200\n",
      "250/250 [==============================] - 1s 5ms/step - loss: 0.3166 - accuracy: 0.8711\n",
      "Epoch 147/200\n",
      "250/250 [==============================] - 1s 5ms/step - loss: 0.3145 - accuracy: 0.8717\n",
      "Epoch 148/200\n",
      "250/250 [==============================] - 1s 4ms/step - loss: 0.3150 - accuracy: 0.8704\n",
      "Epoch 149/200\n",
      "250/250 [==============================] - 1s 4ms/step - loss: 0.3190 - accuracy: 0.8705\n",
      "Epoch 150/200\n",
      "250/250 [==============================] - 1s 4ms/step - loss: 0.3163 - accuracy: 0.8708\n",
      "Epoch 151/200\n",
      "250/250 [==============================] - 1s 4ms/step - loss: 0.3161 - accuracy: 0.8686\n",
      "Epoch 152/200\n",
      "250/250 [==============================] - 1s 5ms/step - loss: 0.3154 - accuracy: 0.8708\n",
      "Epoch 153/200\n",
      "250/250 [==============================] - 1s 4ms/step - loss: 0.3185 - accuracy: 0.8706\n",
      "Epoch 154/200\n",
      "250/250 [==============================] - 1s 4ms/step - loss: 0.3155 - accuracy: 0.8698\n",
      "Epoch 155/200\n",
      "250/250 [==============================] - 1s 5ms/step - loss: 0.3152 - accuracy: 0.8681\n",
      "Epoch 156/200\n",
      "250/250 [==============================] - 1s 4ms/step - loss: 0.3177 - accuracy: 0.8690\n",
      "Epoch 157/200\n",
      "250/250 [==============================] - 1s 5ms/step - loss: 0.3174 - accuracy: 0.8730\n",
      "Epoch 158/200\n",
      "250/250 [==============================] - 1s 4ms/step - loss: 0.3171 - accuracy: 0.8708\n",
      "Epoch 159/200\n",
      "250/250 [==============================] - 1s 4ms/step - loss: 0.3171 - accuracy: 0.8681\n",
      "Epoch 160/200\n",
      "250/250 [==============================] - 1s 4ms/step - loss: 0.3174 - accuracy: 0.8683\n",
      "Epoch 161/200\n",
      "250/250 [==============================] - 1s 5ms/step - loss: 0.3141 - accuracy: 0.8698\n",
      "Epoch 162/200\n",
      "250/250 [==============================] - 1s 4ms/step - loss: 0.3193 - accuracy: 0.8686\n",
      "Epoch 163/200\n",
      "250/250 [==============================] - 1s 4ms/step - loss: 0.3165 - accuracy: 0.8689\n",
      "Epoch 164/200\n",
      "250/250 [==============================] - 1s 4ms/step - loss: 0.3151 - accuracy: 0.8690\n",
      "Epoch 165/200\n",
      "250/250 [==============================] - 1s 4ms/step - loss: 0.3123 - accuracy: 0.8710\n",
      "Epoch 166/200\n",
      "250/250 [==============================] - 1s 4ms/step - loss: 0.3143 - accuracy: 0.8711\n",
      "Epoch 167/200\n",
      "250/250 [==============================] - 1s 5ms/step - loss: 0.3150 - accuracy: 0.8679\n",
      "Epoch 168/200\n",
      "250/250 [==============================] - 1s 5ms/step - loss: 0.3180 - accuracy: 0.8700\n",
      "Epoch 169/200\n",
      "250/250 [==============================] - 1s 5ms/step - loss: 0.3166 - accuracy: 0.8699\n",
      "Epoch 170/200\n",
      "250/250 [==============================] - 1s 5ms/step - loss: 0.3158 - accuracy: 0.8702\n",
      "Epoch 171/200\n",
      "250/250 [==============================] - 1s 5ms/step - loss: 0.3161 - accuracy: 0.8684\n",
      "Epoch 172/200\n",
      "250/250 [==============================] - 1s 5ms/step - loss: 0.3149 - accuracy: 0.8720\n",
      "Epoch 173/200\n",
      "250/250 [==============================] - 1s 6ms/step - loss: 0.3153 - accuracy: 0.8671\n",
      "Epoch 174/200\n",
      "250/250 [==============================] - 1s 5ms/step - loss: 0.3151 - accuracy: 0.8694\n",
      "Epoch 175/200\n",
      "250/250 [==============================] - 1s 5ms/step - loss: 0.3148 - accuracy: 0.8725\n",
      "Epoch 176/200\n",
      "250/250 [==============================] - 1s 5ms/step - loss: 0.3138 - accuracy: 0.8696\n",
      "Epoch 177/200\n",
      "250/250 [==============================] - 1s 5ms/step - loss: 0.3168 - accuracy: 0.8692\n",
      "Epoch 178/200\n",
      "250/250 [==============================] - 1s 5ms/step - loss: 0.3156 - accuracy: 0.8681\n",
      "Epoch 179/200\n",
      "250/250 [==============================] - 1s 4ms/step - loss: 0.3164 - accuracy: 0.8696\n",
      "Epoch 180/200\n",
      "250/250 [==============================] - 1s 5ms/step - loss: 0.3148 - accuracy: 0.8704\n",
      "Epoch 181/200\n",
      "250/250 [==============================] - 1s 5ms/step - loss: 0.3129 - accuracy: 0.8710\n",
      "Epoch 182/200\n",
      "250/250 [==============================] - 1s 5ms/step - loss: 0.3155 - accuracy: 0.8695\n",
      "Epoch 183/200\n",
      "250/250 [==============================] - 1s 5ms/step - loss: 0.3159 - accuracy: 0.8692\n",
      "Epoch 184/200\n",
      "250/250 [==============================] - 1s 5ms/step - loss: 0.3148 - accuracy: 0.8709\n",
      "Epoch 185/200\n",
      "250/250 [==============================] - 1s 5ms/step - loss: 0.3145 - accuracy: 0.8715\n",
      "Epoch 186/200\n",
      "250/250 [==============================] - 1s 5ms/step - loss: 0.3172 - accuracy: 0.8716\n",
      "Epoch 187/200\n",
      "250/250 [==============================] - 1s 5ms/step - loss: 0.3129 - accuracy: 0.8699\n",
      "Epoch 188/200\n",
      "250/250 [==============================] - 1s 5ms/step - loss: 0.3133 - accuracy: 0.8712\n",
      "Epoch 189/200\n",
      "250/250 [==============================] - 1s 5ms/step - loss: 0.3147 - accuracy: 0.8681\n",
      "Epoch 190/200\n",
      "250/250 [==============================] - 1s 5ms/step - loss: 0.3133 - accuracy: 0.8706\n",
      "Epoch 191/200\n",
      "250/250 [==============================] - 1s 5ms/step - loss: 0.3153 - accuracy: 0.8712\n",
      "Epoch 192/200\n",
      "250/250 [==============================] - 1s 5ms/step - loss: 0.3163 - accuracy: 0.8712\n",
      "Epoch 193/200\n",
      "250/250 [==============================] - 1s 5ms/step - loss: 0.3123 - accuracy: 0.8723\n",
      "Epoch 194/200\n",
      "250/250 [==============================] - 1s 5ms/step - loss: 0.3138 - accuracy: 0.8735\n",
      "Epoch 195/200\n",
      "250/250 [==============================] - 1s 5ms/step - loss: 0.3152 - accuracy: 0.8679\n",
      "Epoch 196/200\n",
      "250/250 [==============================] - 1s 5ms/step - loss: 0.3156 - accuracy: 0.8708\n",
      "Epoch 197/200\n",
      "250/250 [==============================] - 1s 5ms/step - loss: 0.3135 - accuracy: 0.8751\n",
      "Epoch 198/200\n",
      "250/250 [==============================] - 1s 5ms/step - loss: 0.3137 - accuracy: 0.8706\n",
      "Epoch 199/200\n",
      "250/250 [==============================] - 1s 5ms/step - loss: 0.3147 - accuracy: 0.8711\n",
      "Epoch 200/200\n",
      "250/250 [==============================] - 1s 5ms/step - loss: 0.3127 - accuracy: 0.8702\n"
     ]
    },
    {
     "data": {
      "text/plain": [
       "<keras.callbacks.History at 0x211000c4a90>"
      ]
     },
     "execution_count": 29,
     "metadata": {},
     "output_type": "execute_result"
    }
   ],
   "source": [
    "#%%timeit -n1 -r1 \n",
    "import tensorflow as tf\n",
    "from tensorflow import keras\n",
    "\n",
    "\n",
    "model = keras.Sequential([\n",
    "    keras.layers.Dense(11, input_shape=(11,), activation='relu'),\n",
    "    keras.layers.Dense(22, activation='relu'),\n",
    "    keras.layers.Dense(1, activation='sigmoid')\n",
    "])\n",
    "\n",
    "opt = keras.optimizers.Adam(learning_rate=0.01)\n",
    "\n",
    "model.compile( optimizer = opt, #optimizer='adam',\n",
    "              loss='binary_crossentropy',\n",
    "              metrics=['accuracy'])\n",
    "\n",
    "model.fit(X_train_scaled, y_train, epochs=200)"
   ]
  },
  {
   "cell_type": "markdown",
   "id": "90df2632-dc54-4914-bb8e-67369f87b443",
   "metadata": {},
   "source": [
    "## Testing the model"
   ]
  },
  {
   "cell_type": "code",
   "execution_count": 30,
   "id": "51160173-2069-4932-8208-9f18665841b5",
   "metadata": {},
   "outputs": [],
   "source": [
    "X_test_scaled = scaler.transform(X_test)\n",
    "yp = model.predict(X_test_scaled)"
   ]
  },
  {
   "cell_type": "code",
   "execution_count": 31,
   "id": "efca8620-d4b4-4e61-9f9f-5b85b47e5660",
   "metadata": {},
   "outputs": [],
   "source": [
    "y_pred = []\n",
    "for element in yp:\n",
    "    if element > 0.5:\n",
    "        y_pred.append(1)\n",
    "    else:\n",
    "        y_pred.append(0)"
   ]
  },
  {
   "cell_type": "code",
   "execution_count": 32,
   "id": "05cd69ee-dd50-4cbe-96b5-d4aabe49f2d6",
   "metadata": {},
   "outputs": [
    {
     "name": "stdout",
     "output_type": "stream",
     "text": [
      "              precision    recall  f1-score   support\n",
      "\n",
      "           0       0.87      0.95      0.91      1595\n",
      "           1       0.71      0.43      0.53       405\n",
      "\n",
      "    accuracy                           0.85      2000\n",
      "   macro avg       0.79      0.69      0.72      2000\n",
      "weighted avg       0.84      0.85      0.83      2000\n",
      "\n"
     ]
    }
   ],
   "source": [
    "from sklearn.metrics import confusion_matrix , classification_report\n",
    "\n",
    "print(classification_report(y_test,y_pred))"
   ]
  },
  {
   "cell_type": "code",
   "execution_count": 33,
   "id": "4bbaa722-c108-400e-9778-c540f5faf73d",
   "metadata": {},
   "outputs": [
    {
     "data": {
      "text/plain": [
       "Text(69.0, 0.5, 'Truth')"
      ]
     },
     "execution_count": 33,
     "metadata": {},
     "output_type": "execute_result"
    },
    {
     "data": {
      "image/png": "[encoded data removed]",
      "text/plain": [
       "<Figure size 720x504 with 2 Axes>"
      ]
     },
     "metadata": {
      "needs_background": "light"
     },
     "output_type": "display_data"
    }
   ],
   "source": [
    "import matplotlib.pyplot as plt\n",
    "import seaborn as sn\n",
    "cm = tf.math.confusion_matrix(labels=y_test,predictions=y_pred)\n",
    "\n",
    "plt.figure(figsize = (10,7))\n",
    "sn.heatmap(cm, annot=True, fmt='d')\n",
    "plt.xlabel('Predicted')\n",
    "plt.ylabel('Truth')"
   ]
  },
  {
   "cell_type": "markdown",
   "id": "59a56596-1c95-4aac-8c75-f2037c6fc244",
   "metadata": {},
   "source": [
    "## Saving the Model"
   ]
  },
  {
   "cell_type": "code",
   "execution_count": 34,
   "id": "45b04b26-2f8c-42cd-8e95-08ea3b378876",
   "metadata": {},
   "outputs": [],
   "source": [
    "model.save('models/churn_prediction_model.h5')"
   ]
  },
  {
   "cell_type": "markdown",
   "id": "80161a54-eb5d-4bd4-901c-8b84089016ec",
   "metadata": {},
   "source": [
    "## Predicting on New Data"
   ]
  },
  {
   "cell_type": "code",
   "execution_count": 35,
   "id": "bd87c6e2-6aa0-4cec-92c1-277d9c677bae",
   "metadata": {},
   "outputs": [
    {
     "name": "stdout",
     "output_type": "stream",
     "text": [
      "Model: \"sequential\"\n",
      "_________________________________________________________________\n",
      " Layer (type)                Output Shape              Param #   \n",
      "=================================================================\n",
      " dense (Dense)               (None, 11)                132       \n",
      "                                                                 \n",
      " dense_1 (Dense)             (None, 22)                264       \n",
      "                                                                 \n",
      " dense_2 (Dense)             (None, 1)                 23        \n",
      "                                                                 \n",
      "=================================================================\n",
      "Total params: 419\n",
      "Trainable params: 419\n",
      "Non-trainable params: 0\n",
      "_________________________________________________________________\n"
     ]
    }
   ],
   "source": [
    "from tensorflow.keras.models import load_model\n",
    "from pickle import load\n",
    "\n",
    "# Loading the model\n",
    "new_model = load_model('models/churn_prediction_model.h5')\n",
    "new_model.summary()\n",
    "\n",
    "# load the scaler\n",
    "scaler = load(open('models/scaler.pkl', 'rb'))"
   ]
  },
  {
   "cell_type": "code",
   "execution_count": 36,
   "id": "6692b4b7-240e-48dc-80bd-c40fb6a73913",
   "metadata": {},
   "outputs": [
    {
     "name": "stdout",
     "output_type": "stream",
     "text": [
      "[[0.00356449]]\n"
     ]
    },
    {
     "name": "stderr",
     "output_type": "stream",
     "text": [
      "D:\\Softwares\\Anaconda\\envs\\bank_churn\\lib\\site-packages\\sklearn\\base.py:450: UserWarning: X does not have valid feature names, but MinMaxScaler was fitted with feature names\n",
      "  warnings.warn(\n"
     ]
    }
   ],
   "source": [
    "import numpy as np\n",
    "a = np.array([[750,0,39,6,0,2,0,0,19264.33,0,0]])\n",
    "a_scaled = scaler.transform(a)\n",
    "print(model.predict(a_scaled))"
   ]
  }
 ],
 "metadata": {
  "kernelspec": {
   "display_name": "bank_churn",
   "language": "python",
   "name": "bank_churn"
  },
  "language_info": {
   "codemirror_mode": {
    "name": "ipython",
    "version": 3
   },
   "file_extension": ".py",
   "mimetype": "text/x-python",
   "name": "python",
   "nbconvert_exporter": "python",
   "pygments_lexer": "ipython3",
   "version": "3.9.7"
  }
 },
 "nbformat": 4,
 "nbformat_minor": 5
}
